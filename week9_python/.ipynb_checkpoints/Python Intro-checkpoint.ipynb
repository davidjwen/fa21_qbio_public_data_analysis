{
 "cells": [
  {
   "cell_type": "markdown",
   "id": "d519537c",
   "metadata": {},
   "source": [
    "# Introduction\n",
    "Welcome to the Intro to Python tutorial! We'll be going over the nuts-and-bolts of the language, as well as some parts of the language especially useful for scientific programming. If you're already familiar with Python, you can skip the basics, and follow along in another jupyter notebook or file!\n",
    "\n",
    "\n",
    "# The Basics\n",
    "Python is much more similar to a \"normal\" programming language (e.g. C++, Java) than R, so if you're gone through the core CS courses you're probably going to be a lot more comfortable with Python. Here's a quick runthrough of the syntax used to implement \"standard\" programming procedures.\n",
    "\n",
    "## A First Note on Python as a Language\n",
    "Python tries to make things as \"intuitive\" as possible; they use the \"duck\" philosphy with regards to variables (if it looks like a duck and quacks like a duck, it's a duck). Basically, the programmer (you!) gets all the power, and Python doesn't enforce any rules unless it breaks the language. The takeaway is to *be super clear with your variable and function naming*, because sometimes if you make a variable the wrong type, Python will still try to make the code work, which gives you a bad result without warning you.\n",
    "\n",
    "## Defining Variables\n",
    "Nothing particularly interesting here: just use the equals sign. Like R, you don't declare a variable as a specific type as you do in C++ (hence the duck typing)."
   ]
  },
  {
   "cell_type": "code",
   "execution_count": 3,
   "id": "cd0f60de",
   "metadata": {},
   "outputs": [],
   "source": [
    "x = 3\n",
    "sentence = \"hello world!\""
   ]
  },
  {
   "cell_type": "markdown",
   "id": "59d0c470",
   "metadata": {},
   "source": [
    "## A Syntaxical Note\n",
    "In the other programming languages you've used before (R, C++, etc.), you've probably defined code blocks using curly braces. Python is completely different, in that it uses a **colon, then indentation** to demark a new code block. You'll see this in the looping, control flow, and function parts of the guide. This means that Python forces you to maintain nicely readable code, so if you're sloppy with your indentation Python will swiftly punish you.\n",
    "\n",
    "\n",
    "## Array Data Structures\n",
    "\n",
    "In Python, you will have worry less about vectorized operations (though they're still much faster -- more on that in the scientific computation section). However, there's four main types of array data structures (collections) in base Python: lists, tuples, sets, and dictionaries.\n",
    "* `lists` are your standard array data structure in Python (being ordered and changeable). They'll suffice for most of your purposes. You declare them using square brackets (`my_list = [1, 2, 3]`).\n",
    "* `tuples` are like `lists`, but they are **unchangeable**. They're helpful if you're optimizing code to maximize runtime, though you can in most cases just use `lists`. You declare them using parentheses. (`my_tuple = (1, 2, 3)`).\n",
    "* `sets` are **unordered**, **unchangeable** collections. Also, you can't have duplicates in them. Again, you can probably ignore the existence of sets and just use lists most of the time. You declare them using curly brackets (`my_set = {1, 2, 3}`).\n",
    "* `dictionaries` are an associative data structure, having a `key` and `value` tuple (if you've taken 104, they're `maps`/hash tables). Essentially, they're a `set` (the key), where each element in the set is paired with some value. As such, they're also defined using curly brackets (`my_dict = {1:\"one\", 2:\"two\", 3:\"three\"}`). You're most likely to use these to associate some input with an output, and as such are very useful.\n",
    "\n",
    "### A Foreword: Objects\n",
    "We've managed to avoid talking about objects in the context of R, but Python makes us understand what objects are (because **literally everything** in Python is an object, including packages and functions). Very abstractly, an `object` is a specially-defined data type, and it has the following two attributes (i.e. it stores the following information):\n",
    "* Data attributes: these store variables.\n",
    "* Methods: these are functions.\n",
    "\n",
    "To access data attributes, use `object_name.attribute` (note the lack of parentheses). To call a function from an object, use `object_name.function()` (note that these have parentheses). We'll see this soon when working with lists, which are, in fact, examples of objects.\n",
    "\n",
    "\n",
    "### Accessing Values\n",
    "To access the element at a specific index in a list, use square brackets as usual (`first_list[1]` is `1`, for example). *Note Python is 0-indexed, just like C++.*\n",
    "\n",
    "To get a range of values, use the colon (`:`). Note that the range is inclusive of the first index, but not of the second (as is standard in Python)."
   ]
  },
  {
   "cell_type": "code",
   "execution_count": 4,
   "id": "1b67e27d",
   "metadata": {},
   "outputs": [
    {
     "data": {
      "text/plain": [
       "[1, 2]"
      ]
     },
     "execution_count": 4,
     "metadata": {},
     "output_type": "execute_result"
    }
   ],
   "source": [
    "first_list = [0, 1, 2, 3, 4, 5, 6]\n",
    "first_list[1:3]"
   ]
  },
  {
   "cell_type": "markdown",
   "id": "569bc544",
   "metadata": {},
   "source": [
    "If you don't specify an index, Python will just go all the way to the beginning/end, depending on which index you omit (and if you omit both, it will give the entire array)."
   ]
  },
  {
   "cell_type": "code",
   "execution_count": 5,
   "id": "20499e93",
   "metadata": {},
   "outputs": [
    {
     "name": "stdout",
     "output_type": "stream",
     "text": [
      "[1, 2, 3, 4, 5, 6]\n",
      "[0, 1, 2]\n",
      "[0, 1, 2, 3, 4, 5, 6]\n"
     ]
    }
   ],
   "source": [
    "print(first_list[1:])\n",
    "print(first_list[:3])\n",
    "print(first_list[:])"
   ]
  },
  {
   "cell_type": "markdown",
   "id": "d437fcb0",
   "metadata": {},
   "source": [
    "#### Too much list splicing\n",
    "Here's more ways to splice a list, which may or may not be useful (feel free to ignore if it's overwhelming).\n",
    "\n",
    "You can also add a second colon, which more or less tells Python how to progress through the array (for instance, 1 gets every value, 2 gets every other value, 3 gets every third value, etc.)"
   ]
  },
  {
   "cell_type": "code",
   "execution_count": 6,
   "id": "b25828b4",
   "metadata": {},
   "outputs": [
    {
     "data": {
      "text/plain": [
       "[0, 2, 4, 6]"
      ]
     },
     "execution_count": 6,
     "metadata": {},
     "output_type": "execute_result"
    }
   ],
   "source": [
    "first_list[::2]"
   ]
  },
  {
   "cell_type": "markdown",
   "id": "90fc86da",
   "metadata": {},
   "source": [
    "You can also give Python negative indices, which indicates the $i$th-last index to retrieve."
   ]
  },
  {
   "cell_type": "code",
   "execution_count": 7,
   "id": "a439e391",
   "metadata": {
    "scrolled": true
   },
   "outputs": [
    {
     "name": "stdout",
     "output_type": "stream",
     "text": [
      "5\n",
      "[0, 1, 2, 3, 4, 5]\n",
      "[5, 6]\n"
     ]
    }
   ],
   "source": [
    "print(first_list[-2]) #  second last\n",
    "print(first_list[:-1]) #  go to second-last index\n",
    "print(first_list[-2:]) # start with second-last to the end"
   ]
  },
  {
   "cell_type": "markdown",
   "id": "d689b0ec",
   "metadata": {},
   "source": [
    "Finally, you can tell Python to go backwards by setting the progression value (the one after two colons) to a negative value:"
   ]
  },
  {
   "cell_type": "code",
   "execution_count": 8,
   "id": "5658da98",
   "metadata": {},
   "outputs": [
    {
     "name": "stdout",
     "output_type": "stream",
     "text": [
      "[6, 5, 4, 3, 2, 1, 0]\n",
      "[6, 4, 2, 0]\n"
     ]
    }
   ],
   "source": [
    "print(first_list[::-1])\n",
    "print(first_list[::-2])"
   ]
  },
  {
   "cell_type": "markdown",
   "id": "922307c2",
   "metadata": {},
   "source": [
    "**Exercise**. Predict the output of the following array slices:"
   ]
  },
  {
   "cell_type": "code",
   "execution_count": 9,
   "id": "25192b1b",
   "metadata": {},
   "outputs": [
    {
     "name": "stdout",
     "output_type": "stream",
     "text": [
      "[3, 4]\n",
      "[1, 3]\n",
      "[3, 2, 1, 0]\n",
      "[2, 4, 6]\n"
     ]
    }
   ],
   "source": [
    "print(first_list[3:5])\n",
    "print(first_list[1:5:2])\n",
    "print(first_list[-4::-1])\n",
    "print(first_list[2::2])"
   ]
  },
  {
   "cell_type": "markdown",
   "id": "5ff623e9",
   "metadata": {},
   "source": [
    "**Exercise**. Make a new list, `second_list`, which contains the odd numbers in `first_list` in descending order."
   ]
  },
  {
   "cell_type": "code",
   "execution_count": 10,
   "id": "de5e5f1f",
   "metadata": {},
   "outputs": [],
   "source": [
    "# code goes here"
   ]
  },
  {
   "cell_type": "markdown",
   "id": "b35c8e80",
   "metadata": {},
   "source": [
    "### Useful List Functions\n",
    "To get the length of a list, use the `len` function, e.g. `len(my_list)` is 3. (Note that you don't call `len` *from* the list).\n",
    "\n",
    "**Exercise**: double the third value in `first_list` and find the length of `first_list`."
   ]
  },
  {
   "cell_type": "code",
   "execution_count": 11,
   "id": "be7af834",
   "metadata": {},
   "outputs": [],
   "source": [
    "# code goes here"
   ]
  },
  {
   "cell_type": "markdown",
   "id": "0de33cf9",
   "metadata": {},
   "source": [
    "The other function you're likely use on a list is `append()`, which adds an element to the end of the list. This is an example of calling a functions *from* an object, which looks like `first_list.append(7)` to add `7` to the end of the list. "
   ]
  },
  {
   "cell_type": "code",
   "execution_count": 59,
   "id": "a8167a27",
   "metadata": {},
   "outputs": [
    {
     "data": {
      "text/plain": [
       "[0, 1, 2, 3, 4, 5, 6, 7]"
      ]
     },
     "execution_count": 59,
     "metadata": {},
     "output_type": "execute_result"
    }
   ],
   "source": [
    "first_list.append(7) # notice the object.function() syntax\n",
    "first_list"
   ]
  },
  {
   "cell_type": "markdown",
   "id": "2fe6418e",
   "metadata": {},
   "source": [
    "### A Warning About Lists\n",
    "If you try to make a copy of a list, you might run into an unwelcome surprise if you modify one of them:"
   ]
  },
  {
   "cell_type": "code",
   "execution_count": 12,
   "id": "3d67cd71",
   "metadata": {
    "scrolled": true
   },
   "outputs": [
    {
     "name": "stdout",
     "output_type": "stream",
     "text": [
      "[0, 1, 2, 3, 4, 5, 6, 100]\n",
      "[0, 1, 2, 3, 4, 5, 6, 100]\n"
     ]
    }
   ],
   "source": [
    "second_list = first_list\n",
    "second_list.append(100)\n",
    "\n",
    "print(first_list)\n",
    "print(second_list)"
   ]
  },
  {
   "cell_type": "markdown",
   "id": "b14b4538",
   "metadata": {},
   "source": [
    "It looks like `first_list` and `second_list` are actually the same list! If you want to make a completely separate list, use the colon to select everything in the original list -- it will make a new copy!"
   ]
  },
  {
   "cell_type": "code",
   "execution_count": 13,
   "id": "5e38b73c",
   "metadata": {},
   "outputs": [
    {
     "name": "stdout",
     "output_type": "stream",
     "text": [
      "[0, 1, 2, 3, 4, 5, 6]\n",
      "[0, 1, 2, 3, 4, 5, 6]\n",
      "[0, 1, 2, 3, 4, 5, 6, 100, 1000]\n"
     ]
    }
   ],
   "source": [
    "third_list = first_list[:]  # note the colon selecting everything\n",
    "first_list.pop()  # remove the last element, 100 from the first\n",
    "third_list.append(1000)\n",
    "\n",
    "print(first_list)  # notice that 1000 was not added\n",
    "print(second_list) # notice that 100 is also gone\n",
    "print(third_list)  # noticed that 100 and 1000 are still there"
   ]
  },
  {
   "cell_type": "markdown",
   "id": "4a957d99",
   "metadata": {},
   "source": [
    "Why did I include this section? One, it's to warn you that the \"intuitive\" way to copy a list might not work as planned. Two, it's also to warn you that when you write a function, it will not pass a list in as a completely separate copy, so you *can* modify the input list within the function. Be warned about any bugs when copying lists around!\n",
    "\n",
    "(Note: you're going to spend 3 semesters in 102/103/104 learning how/why this behavior happens, so strap in mateys.)"
   ]
  },
  {
   "cell_type": "markdown",
   "id": "984871c2",
   "metadata": {},
   "source": [
    "## Control Flow\n",
    "Much like R, you have `if` statements, but there are three main differences:\n",
    "1. Rather than using curly brackets, you have colons and indentation.\n",
    "2. You don't put the `if` statement in parentheses.\n",
    "3. Instead of `else if`, you have the abbreviated `elif`.\n",
    "\n",
    "The following example should illustrate the differences; there's not much else to it:"
   ]
  },
  {
   "cell_type": "code",
   "execution_count": 14,
   "id": "e1359d17",
   "metadata": {},
   "outputs": [
    {
     "name": "stdout",
     "output_type": "stream",
     "text": [
      "x is negative!\n"
     ]
    }
   ],
   "source": [
    "x = -10\n",
    "\n",
    "if x > 0:\n",
    "    print('x is positive!')\n",
    "elif x == 0:\n",
    "    print('x is 0!')\n",
    "else:\n",
    "    print('x is negative!')"
   ]
  },
  {
   "cell_type": "markdown",
   "id": "bb5e64f2",
   "metadata": {},
   "source": [
    "## Looping\n",
    "We have `for` and `while` loops again, which look very similar to the ones you encountered in R.\n",
    "\n",
    "### For Loops\n",
    "In Python, as in R, all `for` loops are \"for-each\" loops, meaning you have to loop through some list-like object. This means that if you want to do something 10 times, you need to be able to generate the numbers 0 - 10 (excluding the last index). We use the `range` function to do exactly this:"
   ]
  },
  {
   "cell_type": "code",
   "execution_count": 15,
   "id": "20a95716",
   "metadata": {},
   "outputs": [
    {
     "name": "stdout",
     "output_type": "stream",
     "text": [
      "0\n",
      "1\n",
      "2\n",
      "3\n",
      "4\n",
      "5\n",
      "6\n",
      "7\n",
      "8\n",
      "9\n"
     ]
    }
   ],
   "source": [
    "for i in range(10):\n",
    "    print(i)"
   ]
  },
  {
   "cell_type": "markdown",
   "id": "a184fe71",
   "metadata": {},
   "source": [
    "Note again that you don't use parentheses to mark your `for` condition. \n",
    "\n",
    "Likewise, you can iterate through a list very simply:"
   ]
  },
  {
   "cell_type": "code",
   "execution_count": 16,
   "id": "55956e88",
   "metadata": {},
   "outputs": [
    {
     "name": "stdout",
     "output_type": "stream",
     "text": [
      "1\n",
      "fish\n",
      "2\n",
      "fish\n"
     ]
    }
   ],
   "source": [
    "a_new_list = [1, 'fish', 2, 'fish']\n",
    "for x in a_new_list:\n",
    "    print(x)"
   ]
  },
  {
   "cell_type": "markdown",
   "id": "c59bfc85",
   "metadata": {},
   "source": [
    "**Exercise**: Add every element from `a_new_list` onto the end of `my_list`."
   ]
  },
  {
   "cell_type": "code",
   "execution_count": 17,
   "id": "425ab55c",
   "metadata": {},
   "outputs": [],
   "source": [
    "## Put your code here"
   ]
  },
  {
   "cell_type": "markdown",
   "id": "5ecefe59",
   "metadata": {},
   "source": [
    "### While Loops\n",
    "While loops are identical to those in R, barring the Python syntax."
   ]
  },
  {
   "cell_type": "code",
   "execution_count": 18,
   "id": "84f69c5b",
   "metadata": {},
   "outputs": [
    {
     "name": "stdout",
     "output_type": "stream",
     "text": [
      "2\n",
      "4\n",
      "8\n",
      "16\n",
      "32\n",
      "64\n",
      "128\n",
      "256\n"
     ]
    }
   ],
   "source": [
    "i = 1\n",
    "while i < 256:\n",
    "    i *= 2  # note: this is equivalent to writing i = i * 2\n",
    "    print(i)"
   ]
  },
  {
   "cell_type": "markdown",
   "id": "a886657f",
   "metadata": {},
   "source": [
    "## Writing Functions\n",
    "Writing functions in Python uses the `def` keyword. Unlike R, you don't save the function to some variable -- it's much more like C++ in this regard. Calling functions is the same syntax as in R and in most other languages, illustrated below"
   ]
  },
  {
   "cell_type": "code",
   "execution_count": 19,
   "id": "dcffb04e",
   "metadata": {},
   "outputs": [
    {
     "data": {
      "text/plain": [
       "33"
      ]
     },
     "execution_count": 19,
     "metadata": {},
     "output_type": "execute_result"
    }
   ],
   "source": [
    "# defines a function called sum_two_numbers\n",
    "def sum_two_numbers(a, b):\n",
    "    return a + b\n",
    "\n",
    "sum_two_numbers(10, 23)"
   ]
  },
  {
   "cell_type": "markdown",
   "id": "9ae7d852",
   "metadata": {},
   "source": [
    "**Exercise**. Write a function that finds and returns the median value of three arguments."
   ]
  },
  {
   "cell_type": "code",
   "execution_count": 20,
   "id": "f3d97be0",
   "metadata": {},
   "outputs": [],
   "source": [
    "# code goes here"
   ]
  },
  {
   "cell_type": "markdown",
   "id": "cc03724b",
   "metadata": {},
   "source": [
    "# \"Pythonic\" Syntax\n",
    "\n",
    "## Print Formatting\n",
    "Formatting your print statements is a super nice way to make your print statements readable. For example, you're probably accustomed to doing something like this to print:"
   ]
  },
  {
   "cell_type": "code",
   "execution_count": 21,
   "id": "4b62fa25",
   "metadata": {},
   "outputs": [
    {
     "name": "stdout",
     "output_type": "stream",
     "text": [
      "bananas has 7 letters in it!\n"
     ]
    }
   ],
   "source": [
    "def count_letters(word):\n",
    "    word_len = len(word)\n",
    "    print(word, \"has\", word_len, \"letters in it!\")\n",
    "    \n",
    "count_letters(\"bananas\")"
   ]
  },
  {
   "cell_type": "markdown",
   "id": "7029d811",
   "metadata": {},
   "source": [
    "This is kind of ugly and hard to read, but luckily there's a better way to print. If you put `f` in front of the string (i.e. single/double quotes) and put variables in curly braces, it automatically substitutes that variable in the string! Here's a neater way to write the above function:"
   ]
  },
  {
   "cell_type": "code",
   "execution_count": 22,
   "id": "5e885b7e",
   "metadata": {},
   "outputs": [
    {
     "name": "stdout",
     "output_type": "stream",
     "text": [
      "bananas has 7 letters in it!\n"
     ]
    }
   ],
   "source": [
    "def count_letters_2(word):\n",
    "    word_len = len(word)\n",
    "    print(f\"{word} has {word_len} letters in it!\")\n",
    "    \n",
    "count_letters_2(\"bananas\")"
   ]
  },
  {
   "cell_type": "markdown",
   "id": "03b177db",
   "metadata": {},
   "source": [
    "## Looping\n",
    "Python has some special features that make looping easier. Here's a few of ways that save the most time:\n",
    "\n",
    "### enumerate\n",
    "`enumerate` allows you to simultaneous loop through the index as well as the elements of a list, which is helpful if you want to track along another array. Just remember that the order is `index`, `object` in the for loop. For example:"
   ]
  },
  {
   "cell_type": "code",
   "execution_count": 23,
   "id": "bceac560",
   "metadata": {},
   "outputs": [
    {
     "name": "stdout",
     "output_type": "stream",
     "text": [
      "red apple\n",
      "yellow banana\n",
      "brown pear\n",
      "orange orange\n",
      "purple plum\n"
     ]
    }
   ],
   "source": [
    "fruits = [\"apple\", \"banana\", \"pear\", \"orange\", \"plum\"]\n",
    "colors = [\"red\", \"yellow\", \"brown\", \"orange\", \"purple\"]\n",
    "\n",
    "# i is index, fruit is object\n",
    "for i, fruit in enumerate(fruits):\n",
    "    print(colors[i], fruit)"
   ]
  },
  {
   "cell_type": "markdown",
   "id": "296c1b3c",
   "metadata": {},
   "source": [
    "### zip\n",
    "`zip` allows you to loop through two lists simultaneously. For example:"
   ]
  },
  {
   "cell_type": "code",
   "execution_count": 24,
   "id": "fd0bda6d",
   "metadata": {},
   "outputs": [
    {
     "name": "stdout",
     "output_type": "stream",
     "text": [
      "apple is red-colored!\n",
      "banana is yellow-colored!\n",
      "pear is brown-colored!\n",
      "orange is orange-colored!\n",
      "plum is purple-colored!\n"
     ]
    }
   ],
   "source": [
    "for color, fruit in zip(colors, fruits):\n",
    "    print(f\"{fruit} is {color}-colored!\")"
   ]
  },
  {
   "cell_type": "markdown",
   "id": "dfbc2233",
   "metadata": {},
   "source": [
    "###  A Completely Optional Bonus\n",
    "In Python, you can do a bunch of syntactical shortcutting. For example, let's say we had the following two lists, and you wanted to make `list_three` contain the pairwise sum if the resulting sum is positive. As an **exercise**, make `list_three`, which should be `[7, 13, 10]` (hint: you'll probably want to make an empty list first)."
   ]
  },
  {
   "cell_type": "code",
   "execution_count": 25,
   "id": "17fdcb85",
   "metadata": {},
   "outputs": [],
   "source": [
    "list_one = [3, 4, 8, 9]\n",
    "list_two = [-10, 3, 5, 1]\n",
    "\n",
    "list_three = ..."
   ]
  },
  {
   "cell_type": "markdown",
   "id": "36f669b9",
   "metadata": {},
   "source": [
    "In fact, you can actually do this in one line, which has the syntax `[expression for x in iterable if True]` (note: the `if` statement is optional). I won't get into the details, but you can do the following (look up *list comprehension* if you're curious):"
   ]
  },
  {
   "cell_type": "code",
   "execution_count": 26,
   "id": "51be36c9",
   "metadata": {},
   "outputs": [
    {
     "data": {
      "text/plain": [
       "[7, 13, 10]"
      ]
     },
     "execution_count": 26,
     "metadata": {},
     "output_type": "execute_result"
    }
   ],
   "source": [
    "fast_list_three = [i + j for i, j in zip(list_one, list_two) if i + j > 0]\n",
    "fast_list_three"
   ]
  },
  {
   "cell_type": "markdown",
   "id": "59aeef33",
   "metadata": {},
   "source": [
    "## Writing Functions\n",
    "Writing functions in Python uses the `def` keyword. Unlike R, you don't save the function to some variable; rather, it follows the `def func_name(params)` template. Note that like R, you don't have typed parameters or outputs. Calling functions is the same syntax as in R and in most other languages, illustrated below"
   ]
  },
  {
   "cell_type": "code",
   "execution_count": 27,
   "id": "d019a66a",
   "metadata": {},
   "outputs": [
    {
     "data": {
      "text/plain": [
       "33"
      ]
     },
     "execution_count": 27,
     "metadata": {},
     "output_type": "execute_result"
    }
   ],
   "source": [
    "# defines a function called sum_two_numbers\n",
    "def sum_two_numbers(a, b):\n",
    "    return a + b\n",
    "\n",
    "sum_two_numbers(10, 23)"
   ]
  },
  {
   "cell_type": "markdown",
   "id": "0bedd1e8",
   "metadata": {},
   "source": [
    "**Exercise**. Write a function that finds and returns the median value of three arguments."
   ]
  },
  {
   "cell_type": "code",
   "execution_count": 28,
   "id": "de5e20f8",
   "metadata": {},
   "outputs": [],
   "source": [
    "# code goes here"
   ]
  },
  {
   "cell_type": "markdown",
   "id": "a6388d73",
   "metadata": {},
   "source": [
    "# Scientific Programming\n",
    "Python on its own doesn't have too much in the way of scientific/statistical programming the way R does, but thankfully it has a million packages that implement these super-useful functionalities.\n",
    "\n",
    "## Importing Packages\n",
    "Importing packages in Python is quite intuitive: it's the `import` keyword. Let's import the first package we're going to use, `numpy`. As with C++, you'll have to scope the package every time you call something from it, so you're probably going to have to type a lot of `numpy.function`. Instead, let's shorten it down so it's just `np.function`, which is what the `as` keyword does (`np` is a standard abbreviation for `numpy`).\n",
    "\n",
    "Note: you'll have to install `numpy` before running the next line of code, so be sure to review how to do that!"
   ]
  },
  {
   "cell_type": "code",
   "execution_count": 29,
   "id": "528c267e",
   "metadata": {},
   "outputs": [],
   "source": [
    "import numpy as np"
   ]
  },
  {
   "cell_type": "markdown",
   "id": "cdf6af3a",
   "metadata": {},
   "source": [
    "As mentioned previously, you have to prefix everything from `numpy` with `np`. For example, `numpy` includes the constant `pi` and the sine function (these are `data attributes` and `functions` within the `numpy` object, respectively). Here's how you would find the sine of 180 degrees, for example."
   ]
  },
  {
   "cell_type": "code",
   "execution_count": 30,
   "id": "589572ae",
   "metadata": {},
   "outputs": [
    {
     "data": {
      "text/plain": [
       "1.2246467991473532e-16"
      ]
     },
     "execution_count": 30,
     "metadata": {},
     "output_type": "execute_result"
    }
   ],
   "source": [
    "np.sin(np.pi)  # pardon the rounding error"
   ]
  },
  {
   "cell_type": "markdown",
   "id": "f52a57ac",
   "metadata": {},
   "source": [
    "Note that `sin()` is a function with its parentheses, and `pi` is a attribute with its lack of parentheses. Also note that you had to put `np.` in front of both `sin()` and `pi`, given that `np` is a package, which also means it's an object with its own attributes."
   ]
  },
  {
   "cell_type": "markdown",
   "id": "dbd51afb",
   "metadata": {},
   "source": [
    "## Numpy Arrays\n",
    "While `numpy` has a bunch of useful functions (look at a cheat sheat -- I *might* make one and you'll definitely know by the time you're reading this), the real meat of `numpy` is the (multidimensional) arrays it implements, called the `ndarray`. It has the following properties:\n",
    "\n",
    "* A fixed size.\n",
    "* A shape (dimension), which is a tuple.\n",
    "* Its contents must be the same data type.\n",
    "\n",
    "First, let's look at a 1-D array. You can declare one by calling `np.array` and passing it a Python list (which basically takes the list into an `ndarray`). There's an optional argument that specifies the data type, but you probably don't need to eke out the performance bonus for our purposes."
   ]
  },
  {
   "cell_type": "code",
   "execution_count": 62,
   "id": "c7fe3f5e",
   "metadata": {},
   "outputs": [
    {
     "data": {
      "text/plain": [
       "array([0, 1, 2])"
      ]
     },
     "execution_count": 62,
     "metadata": {},
     "output_type": "execute_result"
    }
   ],
   "source": [
    "nums = np.array([0, 1, 2])\n",
    "nums"
   ]
  },
  {
   "cell_type": "markdown",
   "id": "4b3bdd60",
   "metadata": {},
   "source": [
    "Why is the `ndarray` (and the `numpy` package in general) important? For one, our good friend *vectorized operations* come back. For example, you can quickly perform mathematical operations on the entire array:"
   ]
  },
  {
   "cell_type": "code",
   "execution_count": 32,
   "id": "6c3f2416",
   "metadata": {},
   "outputs": [
    {
     "name": "stdout",
     "output_type": "stream",
     "text": [
      "[1 2 3]\n"
     ]
    }
   ],
   "source": [
    "print(nums + 1)\n",
    "\n",
    "# this doesn't work\n",
    "# [0, 1, 2] + 1"
   ]
  },
  {
   "cell_type": "markdown",
   "id": "55b7bb6c",
   "metadata": {},
   "source": [
    "Another benefit is that you get extra functions that you can apply on the arrays. For example, you can quickly find the mean and variance of the values (all of these have equivalent `np.*` functions) without having to write those functions yourself."
   ]
  },
  {
   "cell_type": "code",
   "execution_count": 33,
   "id": "1174009e",
   "metadata": {},
   "outputs": [
    {
     "name": "stdout",
     "output_type": "stream",
     "text": [
      "1.0\n",
      "0.6666666666666666\n"
     ]
    }
   ],
   "source": [
    "print(nums.mean())\n",
    "print(nums.var())\n",
    "\n",
    "### NOTE: the following are equivalent to the above, and they can take in a regular list as well\n",
    "### although calling these on a list is MUCH slower\n",
    "# np.mean(nums)\n",
    "# np.var(nums)"
   ]
  },
  {
   "cell_type": "markdown",
   "id": "2c187e55",
   "metadata": {},
   "source": [
    "Finally, it gives a good interface for 2D arrays (not quite data frames -- you gotta wait for the `pandas` section). The way you declare one is very similar to making the 1D array, except you pass it a list of lists (if you've taken any of the C++ classes, the list-of-lists is basically the way you make a 2D array in that language)."
   ]
  },
  {
   "cell_type": "code",
   "execution_count": 34,
   "id": "f1e243cd",
   "metadata": {
    "scrolled": true
   },
   "outputs": [
    {
     "data": {
      "text/plain": [
       "array([[0, 1, 2],\n",
       "       [3, 4, 5]])"
      ]
     },
     "execution_count": 34,
     "metadata": {},
     "output_type": "execute_result"
    }
   ],
   "source": [
    "two_d_array = np.array([[0, 1, 2], [3, 4, 5]])\n",
    "two_d_array"
   ]
  },
  {
   "cell_type": "markdown",
   "id": "ee633228",
   "metadata": {},
   "source": [
    "Accessing values is very similar getting values out of a normal array in [row, column] order. To get an entire row or column, it's the same as with a regular array: use the colon as the \"wildcard.\""
   ]
  },
  {
   "cell_type": "code",
   "execution_count": 35,
   "id": "b643c2bd",
   "metadata": {},
   "outputs": [
    {
     "data": {
      "text/plain": [
       "array([1, 4])"
      ]
     },
     "execution_count": 35,
     "metadata": {},
     "output_type": "execute_result"
    }
   ],
   "source": [
    "two_d_array[:, 1]"
   ]
  },
  {
   "cell_type": "markdown",
   "id": "22025854",
   "metadata": {},
   "source": [
    "To get the dimensions, just access `shape` attribute from the object. NOTE: this is **not** a function; rather, it's a data attribute. "
   ]
  },
  {
   "cell_type": "code",
   "execution_count": 36,
   "id": "00ef525e",
   "metadata": {},
   "outputs": [
    {
     "data": {
      "text/plain": [
       "(2, 3)"
      ]
     },
     "execution_count": 36,
     "metadata": {},
     "output_type": "execute_result"
    }
   ],
   "source": [
    "two_d_array.shape"
   ]
  },
  {
   "cell_type": "markdown",
   "id": "89feacac",
   "metadata": {},
   "source": [
    "Likewise, to get the transposed array (i.e. rows become columns, and vice versa), just get the `T` attribute."
   ]
  },
  {
   "cell_type": "code",
   "execution_count": 37,
   "id": "219f6d3e",
   "metadata": {
    "scrolled": true
   },
   "outputs": [
    {
     "data": {
      "text/plain": [
       "array([[0, 3],\n",
       "       [1, 4],\n",
       "       [2, 5]])"
      ]
     },
     "execution_count": 37,
     "metadata": {},
     "output_type": "execute_result"
    }
   ],
   "source": [
    "two_d_array.T"
   ]
  },
  {
   "cell_type": "markdown",
   "id": "4d96928f",
   "metadata": {},
   "source": [
    "There's not too much else you need to know about `numpy` arrays, since most of your data will be in a **data frame**. Let's move on to `pandas`!\n",
    "\n",
    "## Pandas\n",
    "\n",
    "The `pandas` package implements data frames, which are similar to those in `R`. As usual, we'll have to install and load it beforehand, so let's do it (`pd` is a standard abbreviation for `pandas`).\n"
   ]
  },
  {
   "cell_type": "code",
   "execution_count": 38,
   "id": "eff7cf67",
   "metadata": {},
   "outputs": [],
   "source": [
    "import pandas as pd"
   ]
  },
  {
   "cell_type": "markdown",
   "id": "9d640794",
   "metadata": {},
   "source": [
    "A `pandas` data frame, in a sense, is a *wrapper* for a `numpy` array, by granting it the following additional properties, among others:\n",
    "\n",
    "1. You can have row and column names in the data frame.\n",
    "2. You can have different columns that contain different data types (although individual columns should still have the same data types).\n",
    "\n",
    "You can make a data frame with the `DataFrame` function, passing it either a dictionary or a `numpy` array:"
   ]
  },
  {
   "cell_type": "code",
   "execution_count": 39,
   "id": "6a0fa3c5",
   "metadata": {},
   "outputs": [
    {
     "name": "stdout",
     "output_type": "stream",
     "text": [
      "   a  b  c\n",
      "0  0  3  6\n",
      "1  1  4  7\n",
      "2  2  5  8\n",
      "\n",
      "   0  1  2\n",
      "0  0  1  2\n",
      "1  3  4  5\n"
     ]
    }
   ],
   "source": [
    "# a dictionary with keys (colnames) a, b, c, with values numerical values\n",
    "df1 = pd.DataFrame({\n",
    "    'a': [0, 1, 2],\n",
    "    'b': [3, 4, 5],\n",
    "    'c': [6, 7, 8]\n",
    "})\n",
    "\n",
    "# a dataframe from a two dimensional array, though its unnamed\n",
    "df2 = pd.DataFrame(two_d_array)\n",
    "\n",
    "print(df1)\n",
    "print('')\n",
    "print(df2)"
   ]
  },
  {
   "cell_type": "markdown",
   "id": "aea73d46",
   "metadata": {},
   "source": [
    "In general, you can use the same commands implemented in `numpy` on `pandas` dataframes. Here are some data attributes that are useful:\n",
    "\n",
    "* `axes`. This is a list that contains the rownames and colnames in that order (i.e. `[index, columns]`).\n",
    "* `shape`. As with `numpy`, this atrributre is a tuple containing the shape of the dataframe (i.e. rows by columns).\n",
    "* `dtypes`. This contains the datatypes in each column of the dataframe.\n"
   ]
  },
  {
   "cell_type": "code",
   "execution_count": 101,
   "id": "bdcd1ad6",
   "metadata": {
    "scrolled": true
   },
   "outputs": [
    {
     "name": "stdout",
     "output_type": "stream",
     "text": [
      "   a  b  c\n",
      "0  0  3  6\n",
      "1  1  4  7\n",
      "2  2  5  8\n",
      "-----------\n",
      "here's the axes (names by row, column):\n",
      "[RangeIndex(start=0, stop=3, step=1), Index(['a', 'b', 'c'], dtype='object')]\n",
      "\n",
      "here's the shape:\n",
      "(3, 3)\n",
      "\n",
      "here's the data types in each column:\n",
      "a    int64\n",
      "b    int64\n",
      "c    int64\n",
      "dtype: object\n",
      "\n"
     ]
    }
   ],
   "source": [
    "print(df1)\n",
    "print('-----------')\n",
    "print(f\"here's the axes (names by row, column):\\n{df1.axes}\\n\")\n",
    "print(f\"here's the shape:\\n{df1.shape}\\n\")\n",
    "print(f\"here's the data types in each column:\\n{df1.dtypes}\\n\")"
   ]
  },
  {
   "cell_type": "markdown",
   "id": "d65f2072",
   "metadata": {},
   "source": [
    "### Accessing Rows/Columns in a Dataframe\n",
    "Ok, unfortunately getting rows/columns in a `pandas` dataframe isn't so easy. There's a few tricks you have to remember.\n",
    "\n",
    "#### Ways to access columns by name\n",
    "There's a lot of ways to get a column by name. Here's all the ways I can think of:\n",
    "* Using the dot (`.`) to access the attribute directly; for example `df1.a`. This is probably the easiest.\n",
    "* Using single square brackets, for example `df1['a']`. Note that the name `a` is a string.\n",
    "* *Using double square brackets*, for example `df1[['a']].` **Note that this returns a 2D data frame**, not a 1D series (which is just a 1D array in pandas). This method has the benefit of being able to select multiple columns, such as by `df1[['a', 'b', 'c']]`."
   ]
  },
  {
   "cell_type": "code",
   "execution_count": 93,
   "id": "49b17d6d",
   "metadata": {
    "scrolled": true
   },
   "outputs": [
    {
     "name": "stdout",
     "output_type": "stream",
     "text": [
      "0    0\n",
      "1    1\n",
      "2    2\n",
      "Name: a, dtype: int64\n",
      "0    0\n",
      "1    1\n",
      "2    2\n",
      "Name: a, dtype: int64\n",
      "   a\n",
      "0  0\n",
      "1  1\n",
      "2  2\n"
     ]
    }
   ],
   "source": [
    "print(df1.a)\n",
    "print(df1['a'])\n",
    "print(df1[['a']])"
   ]
  },
  {
   "cell_type": "markdown",
   "id": "2b350daf",
   "metadata": {},
   "source": [
    "#### Other ways to access values\n",
    "Before I begin, note that you **cannot** access a value just by specifying the `row, column` in square brackets. Here's two ways you can actually get values:\n",
    "\n",
    "* `loc`: this gets values by its *name*. You need to specify which rows (by index) and columns (by name). Note that you can select multiple columns if you pass a list of column names.\n",
    "* `iloc`: this gets values by its *index* (hence, index-loc). You don't **need** to specify both rows and columns -- if you don't, it will default to rows only. (To make your code more readable and to make the syntax easier to remember, it's probably best to specify both anyways)."
   ]
  },
  {
   "cell_type": "code",
   "execution_count": 86,
   "id": "37d2c719",
   "metadata": {},
   "outputs": [
    {
     "name": "stdout",
     "output_type": "stream",
     "text": [
      "0    0\n",
      "1    1\n",
      "2    2\n",
      "Name: a, dtype: int64\n",
      "0    6\n",
      "1    7\n",
      "2    8\n",
      "Name: c, dtype: int64\n",
      "a    1\n",
      "b    4\n",
      "c    7\n",
      "Name: 1, dtype: int64\n",
      "a    1\n",
      "b    4\n",
      "c    7\n",
      "Name: 1, dtype: int64\n"
     ]
    }
   ],
   "source": [
    "print(df1.loc[:,'a'])  # gets every value in column 'a'\n",
    "print(df1.iloc[:, 2])  # gets every value in column 2, which is named 'c'\n",
    "print(df1.iloc[1])     # gets every value in row 1, which is the second row\n",
    "print(df1.iloc[1, :])  # same as above, but I prefer this syntax"
   ]
  },
  {
   "cell_type": "markdown",
   "id": "3dd5f18f",
   "metadata": {},
   "source": [
    "### Boolean Indexing\n",
    "As with R, you have the option of selecting rows by boolean indexing by using the `loc` attribute. As a review, you can apply vectorized comparison operators to an entire 1D `pandas` array (i.e. a `pandas` series):"
   ]
  },
  {
   "cell_type": "code",
   "execution_count": 105,
   "id": "74622089",
   "metadata": {},
   "outputs": [
    {
     "name": "stdout",
     "output_type": "stream",
     "text": [
      "0    0\n",
      "1    1\n",
      "2    2\n",
      "Name: a, dtype: int64\n"
     ]
    },
    {
     "data": {
      "text/plain": [
       "0    False\n",
       "1     True\n",
       "2     True\n",
       "Name: a, dtype: bool"
      ]
     },
     "execution_count": 105,
     "metadata": {},
     "output_type": "execute_result"
    }
   ],
   "source": [
    "print(df1.a)\n",
    "df1.a >= 1  # expect False, True, True"
   ]
  },
  {
   "cell_type": "markdown",
   "id": "6b830897",
   "metadata": {},
   "source": [
    "Therefore, you can select rows by putting boolean values into the `loc` columns. "
   ]
  },
  {
   "cell_type": "code",
   "execution_count": 106,
   "id": "997df990",
   "metadata": {
    "scrolled": true
   },
   "outputs": [
    {
     "data": {
      "text/plain": [
       "1    4\n",
       "2    5\n",
       "Name: b, dtype: int64"
      ]
     },
     "execution_count": 106,
     "metadata": {},
     "output_type": "execute_result"
    }
   ],
   "source": [
    "df1.loc[df1.a >= 1, 'b']  # gets the last two columns of column b"
   ]
  },
  {
   "cell_type": "markdown",
   "id": "d19fbbe2",
   "metadata": {},
   "source": [
    "Let's finish off this notebook with a little bit of indexing practice, then move onto the `pandas` worksheet notebook to learn `pandas` in more depth! Use the following exercise array:"
   ]
  },
  {
   "cell_type": "code",
   "execution_count": 110,
   "id": "e49253c0",
   "metadata": {
    "scrolled": true
   },
   "outputs": [
    {
     "data": {
      "text/html": [
       "<div>\n",
       "<style scoped>\n",
       "    .dataframe tbody tr th:only-of-type {\n",
       "        vertical-align: middle;\n",
       "    }\n",
       "\n",
       "    .dataframe tbody tr th {\n",
       "        vertical-align: top;\n",
       "    }\n",
       "\n",
       "    .dataframe thead th {\n",
       "        text-align: right;\n",
       "    }\n",
       "</style>\n",
       "<table border=\"1\" class=\"dataframe\">\n",
       "  <thead>\n",
       "    <tr style=\"text-align: right;\">\n",
       "      <th></th>\n",
       "      <th>a</th>\n",
       "      <th>b</th>\n",
       "      <th>c</th>\n",
       "      <th>d</th>\n",
       "      <th>e</th>\n",
       "      <th>f</th>\n",
       "      <th>g</th>\n",
       "      <th>h</th>\n",
       "      <th>i</th>\n",
       "      <th>j</th>\n",
       "    </tr>\n",
       "  </thead>\n",
       "  <tbody>\n",
       "    <tr>\n",
       "      <th>0</th>\n",
       "      <td>0</td>\n",
       "      <td>1</td>\n",
       "      <td>2</td>\n",
       "      <td>3</td>\n",
       "      <td>4</td>\n",
       "      <td>5</td>\n",
       "      <td>6</td>\n",
       "      <td>7</td>\n",
       "      <td>8</td>\n",
       "      <td>9</td>\n",
       "    </tr>\n",
       "    <tr>\n",
       "      <th>1</th>\n",
       "      <td>10</td>\n",
       "      <td>11</td>\n",
       "      <td>12</td>\n",
       "      <td>13</td>\n",
       "      <td>14</td>\n",
       "      <td>15</td>\n",
       "      <td>16</td>\n",
       "      <td>17</td>\n",
       "      <td>18</td>\n",
       "      <td>19</td>\n",
       "    </tr>\n",
       "    <tr>\n",
       "      <th>2</th>\n",
       "      <td>20</td>\n",
       "      <td>21</td>\n",
       "      <td>22</td>\n",
       "      <td>23</td>\n",
       "      <td>24</td>\n",
       "      <td>25</td>\n",
       "      <td>26</td>\n",
       "      <td>27</td>\n",
       "      <td>28</td>\n",
       "      <td>29</td>\n",
       "    </tr>\n",
       "    <tr>\n",
       "      <th>3</th>\n",
       "      <td>30</td>\n",
       "      <td>31</td>\n",
       "      <td>32</td>\n",
       "      <td>33</td>\n",
       "      <td>34</td>\n",
       "      <td>35</td>\n",
       "      <td>36</td>\n",
       "      <td>37</td>\n",
       "      <td>38</td>\n",
       "      <td>39</td>\n",
       "    </tr>\n",
       "    <tr>\n",
       "      <th>4</th>\n",
       "      <td>40</td>\n",
       "      <td>41</td>\n",
       "      <td>42</td>\n",
       "      <td>43</td>\n",
       "      <td>44</td>\n",
       "      <td>45</td>\n",
       "      <td>46</td>\n",
       "      <td>47</td>\n",
       "      <td>48</td>\n",
       "      <td>49</td>\n",
       "    </tr>\n",
       "    <tr>\n",
       "      <th>5</th>\n",
       "      <td>50</td>\n",
       "      <td>51</td>\n",
       "      <td>52</td>\n",
       "      <td>53</td>\n",
       "      <td>54</td>\n",
       "      <td>55</td>\n",
       "      <td>56</td>\n",
       "      <td>57</td>\n",
       "      <td>58</td>\n",
       "      <td>59</td>\n",
       "    </tr>\n",
       "    <tr>\n",
       "      <th>6</th>\n",
       "      <td>60</td>\n",
       "      <td>61</td>\n",
       "      <td>62</td>\n",
       "      <td>63</td>\n",
       "      <td>64</td>\n",
       "      <td>65</td>\n",
       "      <td>66</td>\n",
       "      <td>67</td>\n",
       "      <td>68</td>\n",
       "      <td>69</td>\n",
       "    </tr>\n",
       "    <tr>\n",
       "      <th>7</th>\n",
       "      <td>70</td>\n",
       "      <td>71</td>\n",
       "      <td>72</td>\n",
       "      <td>73</td>\n",
       "      <td>74</td>\n",
       "      <td>75</td>\n",
       "      <td>76</td>\n",
       "      <td>77</td>\n",
       "      <td>78</td>\n",
       "      <td>79</td>\n",
       "    </tr>\n",
       "    <tr>\n",
       "      <th>8</th>\n",
       "      <td>80</td>\n",
       "      <td>81</td>\n",
       "      <td>82</td>\n",
       "      <td>83</td>\n",
       "      <td>84</td>\n",
       "      <td>85</td>\n",
       "      <td>86</td>\n",
       "      <td>87</td>\n",
       "      <td>88</td>\n",
       "      <td>89</td>\n",
       "    </tr>\n",
       "    <tr>\n",
       "      <th>9</th>\n",
       "      <td>90</td>\n",
       "      <td>91</td>\n",
       "      <td>92</td>\n",
       "      <td>93</td>\n",
       "      <td>94</td>\n",
       "      <td>95</td>\n",
       "      <td>96</td>\n",
       "      <td>97</td>\n",
       "      <td>98</td>\n",
       "      <td>99</td>\n",
       "    </tr>\n",
       "  </tbody>\n",
       "</table>\n",
       "</div>"
      ],
      "text/plain": [
       "    a   b   c   d   e   f   g   h   i   j\n",
       "0   0   1   2   3   4   5   6   7   8   9\n",
       "1  10  11  12  13  14  15  16  17  18  19\n",
       "2  20  21  22  23  24  25  26  27  28  29\n",
       "3  30  31  32  33  34  35  36  37  38  39\n",
       "4  40  41  42  43  44  45  46  47  48  49\n",
       "5  50  51  52  53  54  55  56  57  58  59\n",
       "6  60  61  62  63  64  65  66  67  68  69\n",
       "7  70  71  72  73  74  75  76  77  78  79\n",
       "8  80  81  82  83  84  85  86  87  88  89\n",
       "9  90  91  92  93  94  95  96  97  98  99"
      ]
     },
     "execution_count": 110,
     "metadata": {},
     "output_type": "execute_result"
    }
   ],
   "source": [
    "#  feel free to try to understand this code, though by all means it's not expected that you will\n",
    "df_exercise = pd.DataFrame(\n",
    "    [[10*j + i for i in range(10)] for j in range(10)],\n",
    "    columns = [char for char in \"abcdefghij\"])\n",
    "df_exercise"
   ]
  },
  {
   "cell_type": "markdown",
   "id": "a124ca6d",
   "metadata": {},
   "source": [
    "**Exercise**. \n",
    "1. Select columns `b-g` and store it as a separate data frame named `df_new`. Can you think of more than one way to do so?\n",
    "2. Filter out columns in `df_new` where the value in `c` is *not* a multiple of 3 (modify `df_new`). Remember that the modulo (`%`) operator gets the remainder.\n",
    "3. Get the value at index `(2, 3)`. It should be `34`."
   ]
  },
  {
   "cell_type": "code",
   "execution_count": 128,
   "id": "fa4d3cd3",
   "metadata": {},
   "outputs": [],
   "source": [
    "# code goes here"
   ]
  },
  {
   "cell_type": "markdown",
   "id": "0523f926",
   "metadata": {},
   "source": [
    "### Matplotlib\n",
    "`matplotlib` is the main plotting package in Python. Specifically, we will be using the `pyplot` module from `matplotlib` (the package is massive, so it's faster to just get the specific module you need). Here's how you typically would import a specific module from a package:"
   ]
  },
  {
   "cell_type": "code",
   "execution_count": 129,
   "id": "192d8ade",
   "metadata": {},
   "outputs": [],
   "source": [
    "import matplotlib.pyplot as plt"
   ]
  },
  {
   "cell_type": "markdown",
   "id": "a4c951e0",
   "metadata": {},
   "source": [
    "The workflow behind `pyplot` is somewhat familiar to plotting with `R`: you create the plot, then show the plot (or alternatively, save it to a file). For example, let's plot a simple sine wave:"
   ]
  },
  {
   "cell_type": "code",
   "execution_count": 134,
   "id": "fdb0dae0",
   "metadata": {
    "scrolled": true
   },
   "outputs": [
    {
     "data": {
      "image/png": "[encoded data removed]",
      "text/plain": [
       "<Figure size 432x288 with 1 Axes>"
      ]
     },
     "metadata": {
      "needs_background": "light"
     },
     "output_type": "display_data"
    }
   ],
   "source": [
    "# generates values from 0 to 10 in 0.1 intervals to plot\n",
    "x_vals = [i/10 for i in range(0, 100)]\n",
    "y_vals = np.sin(x_vals)\n",
    "\n",
    "# sets up the plot area\n",
    "# note that one function can have 2 return values in Python\n",
    "fig, ax = plt.subplots(1, 1)  # this controls the number of subplots and how they're placed\n",
    "\n",
    "# use ax to plot the data\n",
    "ax.plot(x_vals, y_vals)\n",
    "plt.show()"
   ]
  },
  {
   "cell_type": "markdown",
   "id": "5c240880",
   "metadata": {},
   "source": [
    "Let's break down all the objects we made:\n",
    "* `fig` doesn't really ever get used.\n",
    "* `ax` controls the axes -- in short, it controls the variables you plot, the plot labels, etc.\n",
    "* `plt` is the plot module you imported, which you can think of as a \"plot window.\" Basically, the plots you made get saved to `plt`, and from there you can see the plots you made.\n",
    "\n",
    "This is somewhat analagous to plotting in R: `subplots` is like `par(mfrow)`, and visualizing the plots is like using `png()` (if you've used the base R plotting functions in your projects). \n",
    "\n",
    "You can look into the `matplotlib.figure` module on your own time to see all the options, though here's an example with using subplots and labeling the axis labels (using the `set` function):"
   ]
  },
  {
   "cell_type": "code",
   "execution_count": 145,
   "id": "bb69eb75",
   "metadata": {},
   "outputs": [
    {
     "data": {
      "image/png": "[encoded data removed]",
      "text/plain": [
       "<Figure size 432x288 with 4 Axes>"
      ]
     },
     "metadata": {
      "needs_background": "light"
     },
     "output_type": "display_data"
    }
   ],
   "source": [
    "# good to know: constrained_layout spaces the plots out so plot titles don't overlap\n",
    "fig, ax = plt.subplots(2, 2, constrained_layout=True)\n",
    "\n",
    "# ax is an list of lists (2D list) -- you need two brackets to access the data\n",
    "ax[0][0].plot(x_vals, y_vals) \n",
    "ax[0][0].set(title = \"sin(x)\", ylabel='y', xlabel='x')\n",
    "\n",
    "ax[0][1].hist(x_vals)  # a very boring histogram\n",
    "ax[0][1].set(title = \"x\", ylabel='counts', xlabel='y values')\n",
    "\n",
    "ax[1][0].hist(y_vals)\n",
    "ax[1][0].set(title = \"y\", ylabel='counts', xlabel='x values')\n",
    "\n",
    "ax[1][1].plot(y_vals, x_vals)\n",
    "ax[1][1].set(title = \"arcsin(x)\", ylabel='y', xlabel='x')\n",
    "\n",
    "plt.show()"
   ]
  }
 ],
 "metadata": {
  "kernelspec": {
   "display_name": "Python 3",
   "language": "python",
   "name": "python3"
  },
  "language_info": {
   "codemirror_mode": {
    "name": "ipython",
    "version": 3
   },
   "file_extension": ".py",
   "mimetype": "text/x-python",
   "name": "python",
   "nbconvert_exporter": "python",
   "pygments_lexer": "ipython3",
   "version": "3.9.1"
  }
 },
 "nbformat": 4,
 "nbformat_minor": 5
}
